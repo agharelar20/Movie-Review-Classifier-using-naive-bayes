{
 "cells": [
  {
   "cell_type": "code",
   "execution_count": null,
   "metadata": {},
   "outputs": [],
   "source": []
  },
  {
   "cell_type": "code",
   "execution_count": null,
   "metadata": {},
   "outputs": [],
   "source": []
  },
  {
   "cell_type": "code",
   "execution_count": null,
   "metadata": {},
   "outputs": [],
   "source": []
  },
  {
   "cell_type": "code",
   "execution_count": null,
   "metadata": {},
   "outputs": [],
   "source": []
  },
  {
   "cell_type": "code",
   "execution_count": null,
   "metadata": {},
   "outputs": [],
   "source": []
  },
  {
   "cell_type": "code",
   "execution_count": null,
   "metadata": {},
   "outputs": [],
   "source": []
  },
  {
   "cell_type": "code",
   "execution_count": null,
   "metadata": {},
   "outputs": [],
   "source": []
  },
  {
   "cell_type": "code",
   "execution_count": 484,
   "metadata": {},
   "outputs": [
    {
     "data": {
      "text/plain": [
       "Doc_to_Bow (generic function with 1 method)"
      ]
     },
     "execution_count": 484,
     "metadata": {},
     "output_type": "execute_result"
    }
   ],
   "source": [
    "function Doc_to_Bow(Doc::String)\n",
    "    Doc=lowercase(Doc)\n",
    "    Doc=replace(Doc,\"<br /><br />\"=>\"\")\n",
    "    Doc_char=Char[]\n",
    "    for i in Doc\n",
    "        if ('a'> i) | (i>'z')\n",
    "            push!(Doc_char,' ')\n",
    "        else\n",
    "            push!(Doc_char,i)\n",
    "        end\n",
    "    end\n",
    "    Doc=join(Doc_char)\n",
    "    \n",
    "    Doc_token=split(Doc,\" \",keepempty=false)\n",
    "    Unique_words=Set(Doc_token)\n",
    "    Bow_dic=Dict{String,Int64}(i=> 0 for i in Unique_words)\n",
    "    for i in Doc_token\n",
    "        Bow_dic[i]+=1\n",
    "    end\n",
    "    return Bow_dic\n",
    "end"
   ]
  },
  {
   "cell_type": "code",
   "execution_count": 485,
   "metadata": {},
   "outputs": [
    {
     "data": {
      "text/plain": [
       "Dict{String,Array{Number,1}}"
      ]
     },
     "execution_count": 485,
     "metadata": {},
     "output_type": "execute_result"
    }
   ],
   "source": [
    "Bag_of_words_pos=Dict{String,Array{Number,1}}()# \"word\"=>[\"frequency\",\" Number of document that appeared\",\"Overall score\"]\n",
    "Bag_of_words_neg=Dict{String,Array{Number,1}}()\n",
    "\n",
    "File_names_pos=readdir(pwd()*\"/aclImdb/train/pos\")\n",
    "File_names_neg=readdir(pwd()*\"/aclImdb/train/neg\")\n",
    "typeof(Bag_of_words_pos)"
   ]
  },
  {
   "cell_type": "code",
   "execution_count": 486,
   "metadata": {},
   "outputs": [],
   "source": [
    "for file_sub_address in File_names_pos\n",
    "    \n",
    "    file_address=pwd()*\"/aclImdb/train/pos/\"*file_sub_address\n",
    "    \n",
    "    f=open(file_address,\"r\")\n",
    "    Doc=read(f,String) \n",
    "    close(f)\n",
    "    Doc_Bow=Doc_to_Bow(Doc)\n",
    "    \n",
    "    for word in keys(Doc_Bow)\n",
    "        if word in keys(Bag_of_words_pos)\n",
    "            Bag_of_words_pos[word][1]+=Doc_Bow[word]\n",
    "            Bag_of_words_pos[word][2]+=1\n",
    "        else\n",
    "            Bag_of_words_pos[word]=[Doc_Bow[word],1,0]\n",
    "            \n",
    "        \n",
    "        end\n",
    "        \n",
    "    end\n",
    "    \n",
    "end    \n",
    "    "
   ]
  },
  {
   "cell_type": "code",
   "execution_count": 487,
   "metadata": {},
   "outputs": [],
   "source": [
    "#computing scores\n",
    "totall_words_in_pos_doc=0\n",
    "for i in values(Bag_of_words_pos)\n",
    "    totall_words_in_pos_doc+=i[1]\n",
    "    \n",
    "end\n",
    "totall_words_in_pos_doc\n",
    "\n",
    "for word in keys(Bag_of_words_pos)\n",
    "    Bag_of_words_pos[word][3]=Bag_of_words_pos[word][1]*log(totall_words_in_pos_doc/Bag_of_words_pos[word][2])# Try to estimate p(word|possitive comment)\n",
    "end"
   ]
  },
  {
   "cell_type": "code",
   "execution_count": 488,
   "metadata": {},
   "outputs": [],
   "source": [
    "for file_sub_address in File_names_neg\n",
    "    \n",
    "    file_address=pwd()*\"/aclImdb/train/neg/\"*file_sub_address\n",
    "    \n",
    "    f=open(file_address,\"r\")\n",
    "    Doc=read(f,String) \n",
    "    close(f)\n",
    "    Doc_Bow=Doc_to_Bow(Doc)\n",
    "    \n",
    "    for word in keys(Doc_Bow)\n",
    "        if word in keys(Bag_of_words_neg)\n",
    "            Bag_of_words_neg[word][1]+=Doc_Bow[word]\n",
    "            Bag_of_words_neg[word][2]+=1\n",
    "        else\n",
    "            Bag_of_words_neg[word]=[Doc_Bow[word],1,0]\n",
    "            \n",
    "        \n",
    "        end\n",
    "        \n",
    "    end\n",
    "    \n",
    "end    "
   ]
  },
  {
   "cell_type": "code",
   "execution_count": 489,
   "metadata": {},
   "outputs": [],
   "source": [
    "#computing scores\n",
    "totall_words_in_neg_doc=0\n",
    "for i in values(Bag_of_words_neg)\n",
    "    totall_words_in_neg_doc+=i[1]\n",
    "    \n",
    "end\n",
    "totall_words_in_neg_doc\n",
    "\n",
    "for word in keys(Bag_of_words_neg)\n",
    "    Bag_of_words_neg[word][3]=Bag_of_words_neg[word][1]*log(totall_words_in_pos_doc/Bag_of_words_neg[word][2])# Try to estimate p(word|possitive comment)\n",
    "end"
   ]
  },
  {
   "cell_type": "code",
   "execution_count": 496,
   "metadata": {},
   "outputs": [
    {
     "name": "stdout",
     "output_type": "stream",
     "text": [
      "0.8708752434280123\n"
     ]
    }
   ],
   "source": [
    "word=\"impossible\"\n",
    "println(Bag_of_words_pos[word][3]/Bag_of_words_neg[word][3])\n"
   ]
  },
  {
   "cell_type": "code",
   "execution_count": 513,
   "metadata": {},
   "outputs": [
    {
     "data": {
      "text/plain": [
       "12500-element Array{String,1}:\n",
       " \"0_2.txt\"    \n",
       " \"10000_4.txt\"\n",
       " \"10001_1.txt\"\n",
       " \"10002_3.txt\"\n",
       " \"10003_3.txt\"\n",
       " \"10004_2.txt\"\n",
       " \"10005_2.txt\"\n",
       " \"10006_2.txt\"\n",
       " \"10007_4.txt\"\n",
       " \"10008_4.txt\"\n",
       " \"10009_3.txt\"\n",
       " \"1000_3.txt\" \n",
       " \"10010_2.txt\"\n",
       " ⋮            \n",
       " \"9991_1.txt\" \n",
       " \"9992_4.txt\" \n",
       " \"9993_2.txt\" \n",
       " \"9994_3.txt\" \n",
       " \"9995_2.txt\" \n",
       " \"9996_2.txt\" \n",
       " \"9997_2.txt\" \n",
       " \"9998_1.txt\" \n",
       " \"9999_1.txt\" \n",
       " \"999_3.txt\"  \n",
       " \"99_3.txt\"   \n",
       " \"9_4.txt\"    "
      ]
     },
     "execution_count": 513,
     "metadata": {},
     "output_type": "execute_result"
    }
   ],
   "source": [
    "#training section\n",
    "File_names_pos=readdir(pwd()*\"/aclImdb/test/pos\")\n",
    "File_names_neg=readdir(pwd()*\"/aclImdb/test/neg\")"
   ]
  },
  {
   "cell_type": "code",
   "execution_count": 514,
   "metadata": {},
   "outputs": [
    {
     "data": {
      "text/plain": [
       "25000"
      ]
     },
     "execution_count": 514,
     "metadata": {},
     "output_type": "execute_result"
    }
   ],
   "source": [
    "coun_misclassification=0\n",
    "Number_of_Doc=size(File_names_pos)[1]+size(File_names_neg)[1]"
   ]
  },
  {
   "cell_type": "code",
   "execution_count": null,
   "metadata": {},
   "outputs": [],
   "source": []
  },
  {
   "cell_type": "code",
   "execution_count": 515,
   "metadata": {},
   "outputs": [],
   "source": [
    "\n",
    "for file_sub_address in File_names_pos\n",
    "    \n",
    "    file_address=pwd()*\"/aclImdb/test/pos/\"*file_sub_address\n",
    "    \n",
    "    f=open(file_address,\"r\")\n",
    "    Doc=read(f,String) \n",
    "    close(f)\n",
    "    \n",
    "    Doc_Bow=Doc_to_Bow(Doc)\n",
    "    \n",
    "    polarity_of_Doc=1\n",
    "    for word in keys(Doc_Bow)\n",
    "        if word in keys(Bag_of_words_pos)\n",
    "            polarity_of_Doc*=Bag_of_words_pos[word][3]*Doc_Bow[word]\n",
    "            \n",
    "        end\n",
    "        if word in keys(Bag_of_words_neg)\n",
    "            polarity_of_Doc/=Bag_of_words_neg[word][3]*Doc_Bow[word]\n",
    "        end  \n",
    "    end\n",
    "    \n",
    "    if polarity_of_Doc<1\n",
    "            coun_misclassification+=1\n",
    "    end\n",
    "end\n",
    "        "
   ]
  },
  {
   "cell_type": "code",
   "execution_count": 516,
   "metadata": {},
   "outputs": [],
   "source": [
    "for file_sub_address in File_names_neg\n",
    "    \n",
    "    file_address=pwd()*\"/aclImdb/test/neg/\"*file_sub_address\n",
    "    \n",
    "    f=open(file_address,\"r\")\n",
    "    Doc=read(f,String) \n",
    "    close(f)\n",
    "    Doc_Bow=Doc_to_Bow(Doc)\n",
    "    polarity_of_Doc=1\n",
    "    for word in keys(Doc_Bow)\n",
    "        if word in keys(Bag_of_words_pos)\n",
    "            polarity_of_Doc*=Bag_of_words_pos[word][3]*Doc_Bow[word]\n",
    "        end\n",
    "        if word in keys(Bag_of_words_neg)\n",
    "            polarity_of_Doc/=Bag_of_words_neg[word][3]*Doc_Bow[word]\n",
    "        end\n",
    "        \n",
    "        \n",
    "    end\n",
    "    if polarity_of_Doc>1\n",
    "            coun_misclassification+=1\n",
    "    end\n",
    "end"
   ]
  },
  {
   "cell_type": "code",
   "execution_count": 517,
   "metadata": {},
   "outputs": [
    {
     "data": {
      "text/plain": [
       "0.18132"
      ]
     },
     "execution_count": 517,
     "metadata": {},
     "output_type": "execute_result"
    }
   ],
   "source": [
    "coun_misclassification/Number_of_Doc"
   ]
  },
  {
   "cell_type": "code",
   "execution_count": null,
   "metadata": {},
   "outputs": [],
   "source": []
  },
  {
   "cell_type": "code",
   "execution_count": null,
   "metadata": {},
   "outputs": [],
   "source": []
  },
  {
   "cell_type": "code",
   "execution_count": null,
   "metadata": {},
   "outputs": [],
   "source": []
  },
  {
   "cell_type": "code",
   "execution_count": null,
   "metadata": {},
   "outputs": [],
   "source": []
  },
  {
   "cell_type": "code",
   "execution_count": null,
   "metadata": {},
   "outputs": [],
   "source": []
  },
  {
   "cell_type": "code",
   "execution_count": null,
   "metadata": {},
   "outputs": [],
   "source": []
  },
  {
   "cell_type": "code",
   "execution_count": null,
   "metadata": {},
   "outputs": [],
   "source": []
  },
  {
   "cell_type": "code",
   "execution_count": null,
   "metadata": {},
   "outputs": [],
   "source": []
  },
  {
   "cell_type": "code",
   "execution_count": null,
   "metadata": {},
   "outputs": [],
   "source": []
  }
 ],
 "metadata": {
  "kernelspec": {
   "display_name": "Julia 1.0.5",
   "language": "julia",
   "name": "julia-1.0"
  },
  "language_info": {
   "file_extension": ".jl",
   "mimetype": "application/julia",
   "name": "julia",
   "version": "1.0.5"
  }
 },
 "nbformat": 4,
 "nbformat_minor": 2
}
